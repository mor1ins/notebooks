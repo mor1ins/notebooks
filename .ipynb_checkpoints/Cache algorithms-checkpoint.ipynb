{
 "cells": [
  {
   "cell_type": "code",
   "execution_count": null,
   "metadata": {
    "scrolled": true,
    "slideshow": {
     "slide_type": "skip"
    }
   },
   "outputs": [],
   "source": [
    "import numpy as np\n",
    "\n",
    "def get_memory(size: int, default_element: int = -1):\n",
    "    return [ default_element for _ in range(size) ]\n",
    "\n",
    "    \n",
    "def FIFO(sequence):\n",
    "    memory = get_memory(5)\n",
    "    \n",
    "    error_count = 0\n",
    "    for elem in sequence:\n",
    "        if elem not in memory:\n",
    "            error_count += 1\n",
    "            del memory[0]\n",
    "            memory.append(elem)\n",
    "            \n",
    "    return error_count\n",
    "\n",
    "\n",
    "def LRU(sequence):\n",
    "    memory = get_memory(5)\n",
    "    indexes = get_memory(5, -1)\n",
    "    error_count = 0\n",
    "    \n",
    "    for elem, i in zip(sequence, range(len(sequence))):\n",
    "        if elem in memory:\n",
    "            indexes[memory.index(elem)] = i\n",
    "        else:\n",
    "            error_count += 1\n",
    "            index_of_min = np.argmin(indexes)\n",
    "            memory[index_of_min] = elem\n",
    "            indexes[index_of_min] = i\n",
    "    \n",
    "    return error_count\n",
    "\n",
    "def OPT(sequence):\n",
    "    memory = sequence[:5]\n",
    "    error_count = 5\n",
    "    \n",
    "    for elem, i in zip(sequence, range(len(sequence))):\n",
    "        if elem not in memory:\n",
    "            error_count += 1\n",
    "            tail = sequence[i:]\n",
    "            next_indexes = [tail.index(cell) if cell in tail else len(sequence) for cell in memory]    \n",
    "            memory[np.argmax(next_indexes)] = elem\n",
    "        \n",
    "    return error_count"
   ]
  },
  {
   "cell_type": "code",
   "execution_count": null,
   "metadata": {
    "slideshow": {
     "slide_type": "slide"
    }
   },
   "outputs": [
    {
     "name": "stdout",
     "output_type": "stream",
     "text": [
      "FIFO: \t12 errors\n",
      "LRU:  \t15 errors\n",
      "OPT:  \t10 errors\n",
      "3"
     ]
    }
   ],
   "source": [
    "input_string = '1 5 2 7 3 5 8 9 2 7 4 3 7 8 4 1 8 5 7 2'\n",
    "# input_string = input('Input sequence:')\n",
    "sequence = input_string.split()\n",
    "\n",
    "print(f'FIFO: \\t{FIFO(sequence)} errors')\n",
    "print(f'LRU:  \\t{LRU(sequence)} errors')\n",
    "print(f'OPT:  \\t{OPT(sequence)} errors')\n",
    "\n",
    "import time\n",
    "\n",
    "i = 0\n",
    "while True:\n",
    "    print(f'\\r{i}', end='')\n",
    "    i += 1\n",
    "    time.sleep(1)"
   ]
  },
  {
   "cell_type": "code",
   "execution_count": null,
   "metadata": {},
   "outputs": [],
   "source": []
  }
 ],
 "metadata": {
  "celltoolbar": "Slideshow",
  "kernelspec": {
   "display_name": "Python 3",
   "language": "python",
   "name": "python3"
  },
  "language_info": {
   "codemirror_mode": {
    "name": "ipython",
    "version": 3
   },
   "file_extension": ".py",
   "mimetype": "text/x-python",
   "name": "python",
   "nbconvert_exporter": "python",
   "pygments_lexer": "ipython3",
   "version": "3.7.6"
  }
 },
 "nbformat": 4,
 "nbformat_minor": 4
}
