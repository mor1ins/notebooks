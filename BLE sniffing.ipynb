{
 "cells": [
  {
   "cell_type": "markdown",
   "metadata": {
    "slideshow": {
     "slide_type": "slide"
    }
   },
   "source": [
    "# BLE sniffing"
   ]
  },
  {
   "cell_type": "markdown",
   "metadata": {
    "slideshow": {
     "slide_type": "slide"
    }
   },
   "source": [
    "<h1>nRF52840</h1><br/><br/>\n",
    "<img src=\"img/nrf_board.jpg\" style=\"width:500px;\">"
   ]
  },
  {
   "cell_type": "markdown",
   "metadata": {
    "slideshow": {
     "slide_type": "subslide"
    }
   },
   "source": [
    "- Supports Bluetooth LE, Bluetooth mesh, NFC, Thread and Zigbee\n",
    "- On-board SEGGER J-Link debugger/programmer\n",
    "- Arduino Uno Rev3 form factor"
   ]
  },
  {
   "cell_type": "markdown",
   "metadata": {
    "slideshow": {
     "slide_type": "slide"
    }
   },
   "source": [
    "# Bluetooth\n",
    "\n",
    "Используется свободный от лицензирования диапазон 2,4-2,4835 ГГц и применяется метод расширения спектра со скачкообразной перестройкой частоты (Frequency Hopping Spread Spectrum, FHSS) с псевдослучайной последовательности переключения между частотами. "
   ]
  },
  {
   "cell_type": "markdown",
   "metadata": {
    "slideshow": {
     "slide_type": "subslide"
    }
   },
   "source": [
    "## Стандарты\n",
    "\n",
    "### Старые, но поддерживаемые\n",
    "\n",
    "1. Bluetooth 1.0\n",
    "2. Bluetooth 1.1\n",
    "3. Bluetooth 1.2\n",
    "4. Bluetooth 2.0 + EDR\n",
    "5. Bluetooth 2.1\n",
    "6. Bluetooth 2.1 + EDR\n",
    "7. Bluetooth 3.0 + HS"
   ]
  },
  {
   "cell_type": "markdown",
   "metadata": {
    "slideshow": {
     "slide_type": "subslide"
    }
   },
   "source": [
    "### Актуальные\n",
    "\n",
    "8. Bluetooth 4.0 (BLE)\n",
    "9. Bluetooth 4.1\n",
    "10. Bluetooth 4.2\n",
    "11. Bluetooth 5.0\n",
    "12. Bluetooth 5.1\n",
    "13. Bluetooth 5.2"
   ]
  },
  {
   "cell_type": "markdown",
   "metadata": {
    "slideshow": {
     "slide_type": "slide"
    }
   },
   "source": [
    "# Bluetooth profiles\n",
    "\n",
    "Профиль — набор функций или возможностей, доступных для определённого устройства Bluetooth. \n",
    "Для совместной работы Bluetooth-устройств необходимо, чтобы все они поддерживали общий профиль.\n",
    "\n",
    "- Advanced Audio Distribution Profile (A2DP) \n",
    "- Audio/Video Remote Control Profile (AVRCP)\n",
    "- Basic Imaging Profile (BIP)\n",
    "- ..."
   ]
  },
  {
   "cell_type": "markdown",
   "metadata": {
    "slideshow": {
     "slide_type": "slide"
    }
   },
   "source": [
    "# Bluetooth attacks\n",
    "\n",
    "- Sniffing unencrypted communications\n",
    "- Sniffing and cracking pairing using the legacy symmetric protocol (Crackle)\n",
    "- Discovering and jamming existing connections (Ubertooth and BtleJack)\n",
    "- Hijacking existing connections (BtleJack)\n",
    "- Exploiting parsing flaws in the Bluetooth stack (L2CAP, ATT, GATT) \n",
    "- Exploiting application layer software vulnerabilities (above GATT)"
   ]
  },
  {
   "cell_type": "markdown",
   "metadata": {
    "slideshow": {
     "slide_type": "slide"
    }
   },
   "source": [
    "# Наконец что-то практическое..."
   ]
  },
  {
   "cell_type": "markdown",
   "metadata": {
    "slideshow": {
     "slide_type": "subslide"
    }
   },
   "source": [
    "## raccoon\n",
    "\n",
    "1. Заливаем прошивку для нашей платы (у меня PCA10056) через nRF Programmer\n",
    "2. Запускаем raccoon"
   ]
  },
  {
   "cell_type": "code",
   "execution_count": null,
   "metadata": {
    "hide_input": false,
    "slideshow": {
     "slide_type": "subslide"
    }
   },
   "outputs": [],
   "source": [
    "~/projects/raccoon/pyclient/raccoon.py"
   ]
  },
  {
   "cell_type": "markdown",
   "metadata": {
    "slideshow": {
     "slide_type": "subslide"
    }
   },
   "source": [
    "## nRF BLE Sniffer + Wireshark\n",
    "\n",
    "1. Перепрограммируем на новую прошивку\n",
    "2. Запускаем Wireshark с предустановленным плагином"
   ]
  },
  {
   "cell_type": "markdown",
   "metadata": {
    "slideshow": {
     "slide_type": "subslide"
    }
   },
   "source": [
    "## Smartphone\n",
    "\n",
    "1. Включаем режим разработчика\n",
    "2. Включаем Bluetooth HCI log\n",
    "3. Выгружаем отчет об об ошибках\n",
    "4. Находим нужный нам файл с пакетами"
   ]
  },
  {
   "cell_type": "markdown",
   "metadata": {
    "slideshow": {
     "slide_type": "subslide"
    }
   },
   "source": [
    "<div class=\"row\">\n",
    "  <div class=\"column\" style=\"float: left;width: 25%;padding: 5px; margin-left: 70px;\">\n",
    "    <img src=\"img/bt_snoop_enable.png\">\n",
    "  </div>\n",
    "  <div class=\"column\" style=\"float: left;width: 25%;padding: 5px; margin-left: 70px;\">\n",
    "     <img src=\"img/create_bug_report.jpeg\">\n",
    "  </div>\n",
    "  <div class=\"column\" style=\"float: left;width: 25%;padding: 5px; margin-left: 70px;\">\n",
    "      <img src=\"img/send_report.jpeg\">\n",
    "  </div>\n",
    "</div>"
   ]
  },
  {
   "cell_type": "markdown",
   "metadata": {
    "slideshow": {
     "slide_type": "subslide"
    }
   },
   "source": [
    "![wireshark](img/wireshark_with_bt_snoop.png)"
   ]
  },
  {
   "cell_type": "markdown",
   "metadata": {
    "slideshow": {
     "slide_type": "slide"
    }
   },
   "source": [
    "# Что не получилось?"
   ]
  },
  {
   "cell_type": "markdown",
   "metadata": {
    "slideshow": {
     "slide_type": "fragment"
    }
   },
   "source": [
    "1. Перехватить процесс коннекта между устройствами и изучить его на практике"
   ]
  },
  {
   "cell_type": "markdown",
   "metadata": {
    "slideshow": {
     "slide_type": "fragment"
    }
   },
   "source": [
    "2. Провести даже простейшие из известных атак"
   ]
  },
  {
   "cell_type": "markdown",
   "metadata": {
    "slideshow": {
     "slide_type": "fragment"
    }
   },
   "source": [
    "3. Охватить и осознать все многообразие Bluetooth"
   ]
  }
 ],
 "metadata": {
  "celltoolbar": "Slideshow",
  "kernelspec": {
   "display_name": "Bash",
   "language": "bash",
   "name": "bash"
  },
  "language_info": {
   "codemirror_mode": "shell",
   "file_extension": ".sh",
   "mimetype": "text/x-sh",
   "name": "bash"
  },
  "latex_envs": {
   "LaTeX_envs_menu_present": true,
   "autoclose": false,
   "autocomplete": true,
   "bibliofile": "biblio.bib",
   "cite_by": "apalike",
   "current_citInitial": 1,
   "eqLabelWithNumbers": true,
   "eqNumInitial": 1,
   "hotkeys": {
    "equation": "Ctrl-E",
    "itemize": "Ctrl-I"
   },
   "labels_anchors": false,
   "latex_user_defs": false,
   "report_style_numbering": false,
   "user_envs_cfg": false
  },
  "toc": {
   "base_numbering": 1,
   "nav_menu": {},
   "number_sections": false,
   "sideBar": true,
   "skip_h1_title": false,
   "title_cell": "Table of Contents",
   "title_sidebar": "Contents",
   "toc_cell": false,
   "toc_position": {
    "height": "calc(100% - 180px)",
    "left": "10px",
    "top": "150px",
    "width": "186px"
   },
   "toc_section_display": true,
   "toc_window_display": false
  }
 },
 "nbformat": 4,
 "nbformat_minor": 4
}
